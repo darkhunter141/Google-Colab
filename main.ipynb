from google.colab import drive
drive.mount('/content/drive', force_remount=True)
!sudo cp -r -v "contpath" "yourdrivepath"
